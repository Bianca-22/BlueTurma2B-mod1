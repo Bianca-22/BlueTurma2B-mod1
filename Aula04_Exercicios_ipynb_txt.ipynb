{
  "nbformat": 4,
  "nbformat_minor": 0,
  "metadata": {
    "colab": {
      "name": "Aula04_Exercicios.ipynb.txt",
      "provenance": [],
      "collapsed_sections": [],
      "include_colab_link": true
    },
    "kernelspec": {
      "name": "python3",
      "display_name": "Python 3"
    },
    "language_info": {
      "name": "python"
    }
  },
  "cells": [
    {
      "cell_type": "markdown",
      "metadata": {
        "id": "view-in-github",
        "colab_type": "text"
      },
      "source": [
        "<a href=\"https://colab.research.google.com/github/Bianca-22/BlueTurma2B-mod1/blob/main/Aula04_Exercicios_ipynb_txt.ipynb\" target=\"_parent\"><img src=\"https://colab.research.google.com/assets/colab-badge.svg\" alt=\"Open In Colab\"/></a>"
      ]
    },
    {
      "cell_type": "markdown",
      "metadata": {
        "id": "DptQTkwqN7v9"
      },
      "source": [
        "# Exercícios de Aquecimento\n",
        "\n",
        "## Exercício 01\n",
        "Elabore um programa que imprima na tela a seguinte frase `Olá Mundo! Esse é o meu primeiro programa`"
      ]
    },
    {
      "cell_type": "code",
      "metadata": {
        "id": "fu-Hvxg7OT64",
        "colab": {
          "base_uri": "https://localhost:8080/"
        },
        "outputId": "7a2ca825-20f4-43b0-d698-b50e9932ba89"
      },
      "source": [
        "print('Olá mundo! Esse é meu primeiro programa.')"
      ],
      "execution_count": null,
      "outputs": [
        {
          "output_type": "stream",
          "text": [
            "Olá mundo! Esse é meu primeiro programa.\n"
          ],
          "name": "stdout"
        }
      ]
    },
    {
      "cell_type": "markdown",
      "metadata": {
        "id": "HYnPLbl2OfuE"
      },
      "source": [
        "## Exercício 02\n",
        "Elabore um programa que escreve seu nome completo na primeira linha, seu endereço na segunda e o CEP e telefone na terceira.  \n",
        "\n",
        "**Exemplo:**\n",
        "```\n",
        "Nome: Bruno Fabri\n",
        "Endereço: Rua ABC\n",
        "CEP: 002220-010\n",
        "```"
      ]
    },
    {
      "cell_type": "code",
      "metadata": {
        "id": "sUrmuOzbO5Cd",
        "colab": {
          "base_uri": "https://localhost:8080/"
        },
        "outputId": "11f91486-1fc9-4705-add6-e3d24711ffcb"
      },
      "source": [
        "print(' Nome: Bianca\\n Endereço: Rua ABCD\\n CEP: 002220-010\\n Telefone: (21) 99999-9999')"
      ],
      "execution_count": null,
      "outputs": [
        {
          "output_type": "stream",
          "text": [
            " Nome: Bianca\n",
            " Endereço: Rua ABCD\n",
            " CEP: 002220-010\n",
            " Telefone: (21) 99999-9999\n"
          ],
          "name": "stdout"
        }
      ]
    },
    {
      "cell_type": "markdown",
      "metadata": {
        "id": "5XVY0cvwP1WX"
      },
      "source": [
        "## Exercício 03\n",
        "Elabore um programa que recebe o nome de uma pessoa do terminal e mostra a seguinte mensagem: `Olá {nome}! Seja bem vindo ao fantástico mundo da programação`"
      ]
    },
    {
      "cell_type": "code",
      "metadata": {
        "id": "VDfwe6OSQM0M",
        "colab": {
          "base_uri": "https://localhost:8080/"
        },
        "outputId": "8c0cad58-0613-492c-c3e4-af0cbdd1d2ae"
      },
      "source": [
        "nome = input('Digite seu nome: ')\n",
        "print('Olá', nome + '! Seja bem vindo ao fatástico mundo da programação.')\n",
        "print('Olá {}! Seja bem vindo ao fantástico mundo da programação.'.format(nome))"
      ],
      "execution_count": null,
      "outputs": [
        {
          "output_type": "stream",
          "text": [
            "Digite seu nome: Bianca\n",
            "Olá Bianca! Seja bem vindo ao fatástico mundo da programação.\n",
            "Olá Bianca! Seja bem vindo ao fantástico mundo da programação.\n"
          ],
          "name": "stdout"
        }
      ]
    },
    {
      "cell_type": "markdown",
      "metadata": {
        "id": "1Nb29agVQc3k"
      },
      "source": [
        "## Exercício 04\n",
        "Elabore um programa que recebe dois valores inteiros e mostra a soma desses valores\n",
        "\n",
        "**Exemplo:**\n",
        "\n",
        "```\n",
        "Primeiro Valor = 2\n",
        "Segundo Valor = 3\n",
        "Soma = 5\n",
        "```"
      ]
    },
    {
      "cell_type": "code",
      "metadata": {
        "id": "a6_BwVwRROmH",
        "colab": {
          "base_uri": "https://localhost:8080/"
        },
        "outputId": "44436c50-783f-4450-ced0-6f45d3b2f0e4"
      },
      "source": [
        "num1 = int(input('Digite o primeiro valor: '))\n",
        "num2 = int(input('Digite o seundo valor:'))\n",
        "soma = num1 + num2\n",
        "\n",
        "print('Resultado =', soma)"
      ],
      "execution_count": null,
      "outputs": [
        {
          "output_type": "stream",
          "text": [
            "Digite o primeiro valor: 2\n",
            "Digite o seundo valor:3\n",
            "Resultado = 5\n"
          ],
          "name": "stdout"
        }
      ]
    },
    {
      "cell_type": "markdown",
      "metadata": {
        "id": "4HQxR3FTTbSr"
      },
      "source": [
        "## Exercício 05\n",
        "Elabore um programa que recebe dois valores inteiros e mostra se o primeiro valor é maior ou igual ao segundo valor\n",
        "\n",
        "**Exemplo:**\n",
        "```\n",
        "Primeiro Valor = 3\n",
        "Segundo Valor = 2\n",
        "Resultado = True\n",
        "```"
      ]
    },
    {
      "cell_type": "code",
      "metadata": {
        "id": "OXISQASdTeSW",
        "colab": {
          "base_uri": "https://localhost:8080/"
        },
        "outputId": "5b9ae502-4ca1-4d75-9689-dde1668c6564"
      },
      "source": [
        "num1 = float(input('Digite o primeiro valor:'))\n",
        "num2 = float(input('Digite o segundo valor:'))\n",
        "\n",
        "print(num1 >= num2)\n",
        "print(num1 <= num2)\n",
        "print(num1 != num2)\n",
        "print(num1 == num2)"
      ],
      "execution_count": null,
      "outputs": [
        {
          "output_type": "stream",
          "text": [
            "Digite o primeiro valor:3\n",
            "Digite o segundo valor:2\n",
            "True\n",
            "False\n",
            "True\n",
            "False\n"
          ],
          "name": "stdout"
        }
      ]
    },
    {
      "cell_type": "markdown",
      "metadata": {
        "id": "Gn8rHPn3UCnc"
      },
      "source": [
        "## Exercício 06\n",
        "Elabore um programa que recebe o seu nome, endereço e hobby e mostra cada uma das informações da seguinte forma:\n",
        "- Nome -> Letra maiúscula\n",
        "- Endereço -> Letra minúscula\n",
        "- Hobby -> Primeira letra maiúscula\n",
        "\n",
        "**Exemplo Entrada:**\n",
        "```\n",
        "Nome: bruno fabri\n",
        "Endereço: Rua ABC\n",
        "Hobby: jogar cs\n",
        "```\n",
        "\n",
        "**Exemplo Saída:**\n",
        "```\n",
        "Nome: BRUNO FABRI\n",
        "Endereço: rua abc\n",
        "Hobby: Jogar cs\n",
        "```"
      ]
    },
    {
      "cell_type": "code",
      "metadata": {
        "id": "ZIj-PGVZVVP6",
        "colab": {
          "base_uri": "https://localhost:8080/"
        },
        "outputId": "d641a20a-0412-475b-8a41-eb44ef2eb5d1"
      },
      "source": [
        "nome = input('Digite seu nome: ')\n",
        "endereco = input('Digite seu endereço: ')\n",
        "hobby = input('Diga seu hobby: ')\n",
        "\n",
        "print(nome.upper())\n",
        "print(endereco.lower())\n",
        "print(hobby.capitalize())"
      ],
      "execution_count": null,
      "outputs": [
        {
          "output_type": "stream",
          "text": [
            "Digite seu nome: bianca\n",
            "Digite seu endereço: RUA H\n",
            "Diga seu hobby: jOAGAR COD\n",
            "BIANCA\n",
            "rua h\n",
            "Joagar cod\n"
          ],
          "name": "stdout"
        }
      ]
    },
    {
      "cell_type": "markdown",
      "metadata": {
        "id": "wlvmEAPQNrcL"
      },
      "source": [
        "# Mini Projetos"
      ]
    },
    {
      "cell_type": "markdown",
      "metadata": {
        "id": "W8zwueNBKh4B"
      },
      "source": [
        "## Mini Projeto 01 - Conversor de Moeda\n",
        "Vamos construir um programa que irá converter moedas do real para o dólar e do dólar para o real. Vamos considerar que `$ 1,00 = R$ 5,75`\n",
        "\n",
        "### Parte 1\n",
        "Faça o conversor de moeda receber o valor em real e mostrar o valor convertido para dólar no formato `$ XXXX.XX`\n",
        "\n",
        "**Exemplo:**\n",
        "\n",
        "```\n",
        "Valor em R$ = 1000\n",
        "Valor em $ = $ 173.91\n",
        "```\n",
        "\n",
        "### Parte 2\n",
        "Altere o conversor de moedas para receber o valor em dólar, converter para real e mostrar o resultado no formato `R$ XXXX.XX`\n",
        "\n",
        "**Exemplo:**\n",
        "```\n",
        "Valor em $ = 1000\n",
        "Valor em R$ = R$ 5750.00\n",
        "```"
      ]
    },
    {
      "cell_type": "code",
      "metadata": {
        "id": "mRQ9fpIgMp5Z",
        "colab": {
          "base_uri": "https://localhost:8080/"
        },
        "outputId": "7104c0a3-a748-4de4-e9f7-9defb0173315"
      },
      "source": [
        "#Parte 1 - Converter real para dolar\n",
        "real = float(input('Quanto você tem na carteira? R$'))\n",
        "dolar = real / 5.75\n",
        "\n",
        "print('Com R${:.2f} você consegue compar US${:.2f}'.format(real, dolar))"
      ],
      "execution_count": null,
      "outputs": [
        {
          "output_type": "stream",
          "text": [
            "Quanto você tem na carteira? R$1000\n",
            "Com R$1000.00 você consegue compar US$173.91\n"
          ],
          "name": "stdout"
        }
      ]
    },
    {
      "cell_type": "code",
      "metadata": {
        "colab": {
          "base_uri": "https://localhost:8080/"
        },
        "id": "9R4Lk2W2WgQB",
        "outputId": "ea84725a-df02-405b-e6c5-e0a6ee1f0fe7"
      },
      "source": [
        "#Parte 2 - Converter dolar para real\n",
        "valor = float(input('Quantos dólares você tem? US$'))\n",
        "dolar = 5.75\n",
        "real = valor * dolar\n",
        "print('Com US${:.2f} você consegue compar R${:.2f}'.format(valor, real))"
      ],
      "execution_count": null,
      "outputs": [
        {
          "output_type": "stream",
          "text": [
            "Quantos dólares você tem? US$1000\n",
            "Com US$1000.00 você consegue compar R$5750.00\n"
          ],
          "name": "stdout"
        }
      ]
    },
    {
      "cell_type": "markdown",
      "metadata": {
        "id": "0NmAiF2DV_ju"
      },
      "source": [
        "## Mini Projeto 02 - Calculadora de aumento de aluguel\n",
        "Vamos construir um programa que irá calcular o aumento anual do seu aluguel em duas partes:\n",
        "\n",
        "### Parte 1\n",
        "A sua calculadora vai receber o `valor do aluguel` e calcular o aumento baseado no `IGPM de 31%`. A calculadora deve apresentar o aluguel reajustado no formato `R$ XXXX.XX`\n",
        "\n",
        "**Exemplo:**\n",
        "```\n",
        "Valor do aluguel = 1000\n",
        "Valor do aluguel reajustado = R$ 1310,00\n",
        "```\n",
        "\n",
        "### Parte 2\n",
        "Agora, altere sua calculadora para receber além do `valor do aluguel`, o percentual do reajuste no formato `XX%`.  \n",
        "\n",
        "**Dica:** Descubra uma forma de transformar o percentual recebido em um número para efetuar o cálculo.\n",
        "\n",
        "**Exemplo:**\n",
        "```\n",
        "Valor do aluguel = 1000\n",
        "Percentual do reajuste = 31%\n",
        "Valor do aluguel reajustado = R% 1310,00\n",
        "```"
      ]
    },
    {
      "cell_type": "code",
      "metadata": {
        "id": "0eHzSCyaGkYJ",
        "colab": {
          "base_uri": "https://localhost:8080/"
        },
        "outputId": "0932aaec-638b-4e83-b41a-4b691777604b"
      },
      "source": [
        "#Parte 1\n",
        "aluguel =float(input('Informe o seu aluguel: '))\n",
        "resultado = aluguel + (aluguel * 0.31)\n",
        "print(f'Valor do aluguel reajustado é de R${resultado:.2f}')"
      ],
      "execution_count": 15,
      "outputs": [
        {
          "output_type": "stream",
          "text": [
            "Informe o seu aluguel: 1000\n",
            "Valor do aluguel reajustado é de R$1310.00\n"
          ],
          "name": "stdout"
        }
      ]
    },
    {
      "cell_type": "code",
      "metadata": {
        "id": "J3vS5luVtzb7",
        "outputId": "3f3ea880-31b0-4c04-cb01-8c5a7ee390a6",
        "colab": {
          "base_uri": "https://localhost:8080/"
        }
      },
      "source": [
        "#Parte 2\n",
        "aluguel = float(input('Valor do aluguel: R$'))\n",
        "reajuste = float(input(\"Informe o valor do reajuste em %: \"))\n",
        "alguguelConvertido = aluguel + (aluguel * (reajuste / 100))\n",
        "\n",
        "print(f'Valor do aluguel reajustado = R${alguguelConvertido:.2f}')"
      ],
      "execution_count": 11,
      "outputs": [
        {
          "output_type": "stream",
          "text": [
            "Valor do aluguel: R$1000\n",
            "Informe o valor do reajuste em %: 31\n",
            "Valor do aluguel reajustado = R$1310.00\n"
          ],
          "name": "stdout"
        }
      ]
    },
    {
      "cell_type": "markdown",
      "metadata": {
        "id": "xN88sUuMOG46"
      },
      "source": [
        "## Mini Projeto 03 - Calculadora de dano\n",
        "Vamos implementar a calculadora de dano de RPG!!\n",
        "\n",
        "### Parte 1\n",
        "O programa vai receber a `vida e um monstro (entre 10 e 50)` e o `valor do ataque do jogador por turno (entre 5 e 10)`\n",
        "\n",
        "Baseado nos valores, exiba a quantidade de turnos que o jogador irá demorar para conseguir derrotar o monstro.\n",
        "\n",
        "**Exemplo:**\n",
        "```\n",
        "Vida de um monstro (entre 10 e 50): 26\n",
        "Valor do ataque do jogador por turno (entre 5 e 10): 5\n",
        "Resultado: O jogador irá precisar de 6 turnos para derrotar o monstro.\n",
        "```\n",
        "\n",
        "### Parte 2\n",
        "Altere o programa para ao invés de receber a vida do monstro, gerar aleatoriamente um valor entre 10 e 50."
      ]
    },
    {
      "cell_type": "code",
      "metadata": {
        "id": "Mrpz9UomQH2P"
      },
      "source": [
        ""
      ],
      "execution_count": null,
      "outputs": []
    }
  ]
}