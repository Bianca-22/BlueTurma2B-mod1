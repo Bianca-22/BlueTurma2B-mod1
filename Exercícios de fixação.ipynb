{
  "nbformat": 4,
  "nbformat_minor": 0,
  "metadata": {
    "colab": {
      "name": "Untitled2.ipynb",
      "provenance": [],
      "authorship_tag": "ABX9TyPU/pZ6iEWcGIcybeHYxd9H",
      "include_colab_link": true
    },
    "kernelspec": {
      "name": "python3",
      "display_name": "Python 3"
    },
    "language_info": {
      "name": "python"
    }
  },
  "cells": [
    {
      "cell_type": "markdown",
      "metadata": {
        "id": "view-in-github",
        "colab_type": "text"
      },
      "source": [
        "<a href=\"https://colab.research.google.com/github/Bianca-22/BlueTurma2B-mod1/blob/main/Exerc%C3%ADcios%20de%20fixa%C3%A7%C3%A3o.ipynb\" target=\"_parent\"><img src=\"https://colab.research.google.com/assets/colab-badge.svg\" alt=\"Open In Colab\"/></a>"
      ]
    },
    {
      "cell_type": "code",
      "metadata": {
        "id": "AMbXRn3vXdUE"
      },
      "source": [
        ""
      ],
      "execution_count": null,
      "outputs": []
    },
    {
      "cell_type": "code",
      "metadata": {
        "id": "h-ck8ZT4W3Qk"
      },
      "source": [
        "#João Papo-de-Pescador, homem de bem, comprou um microcomputador para controlar o rendimento diário de seu trabalho. Toda vez que ele traz um peso de peixes\n",
        "#maior que o estabelecido pelo regulamento de pesca do estado de São Paulo (50 quilos) deve pagar uma multa de R$ 4,00 por quilo excedente. \n",
        "#João precisa que você faça um programa que leia a variável peso (peso de peixes) e calcule o excesso. Gravar na variável excesso a quantidade de quilos\n",
        "#além do limite e na variável multa o valor da multa que João deverá pagar. Imprima os dados do programa com as mensagens adequadas.\n",
        "\n",
        "\n"
      ],
      "execution_count": null,
      "outputs": []
    },
    {
      "cell_type": "code",
      "metadata": {
        "id": "88NqYjGJWoHi",
        "outputId": "337c7e8c-1b88-4da5-e6e9-71740ea55d4e",
        "colab": {
          "base_uri": "https://localhost:8080/"
        }
      },
      "source": [
        "#Tendo como dado de entrada a altura (h) de uma pessoa, construa um algoritmo que calcule seu peso ideal, utilizando as seguintes fórmulas:\n",
        "#Para homens: (72.7*h) - 58\n",
        "#Para mulheres: (62.1*h) - 44.7\n",
        "\n",
        "f_m = input('Digite F (Feminino) ou M (Masculino): ').upper()\n",
        "\n",
        "if f_m == 'F':\n",
        "  altura = float(input('Digite sua altura: '))\n",
        "  altura1 = (62.1 * altura) - 44.7\n",
        "  print(f'Seu peso ideal é de {altura1:.2f}kg.')\n",
        "\n",
        "elif f_m == 'M':\n",
        "  altura = float(input('Digite sua altura: '))\n",
        "  altura2 = (72.7 * altura) - 58\n",
        "  print(f'Seu peso ideal é de {altura2:.2f}kg.')\n",
        "\n",
        "else:\n",
        "  print('Digite F ou M.')"
      ],
      "execution_count": 15,
      "outputs": [
        {
          "output_type": "stream",
          "text": [
            "Digite F (Feminino) ou M (Masculino): F\n",
            "Digite sua altura: 1.65\n",
            "Seu peso ideal é de 57.77kg.\n"
          ],
          "name": "stdout"
        }
      ]
    },
    {
      "cell_type": "code",
      "metadata": {
        "id": "Z510JjIDWiSD",
        "outputId": "f33c0e08-e9bc-4821-d3d7-389a4280a581",
        "colab": {
          "base_uri": "https://localhost:8080/"
        }
      },
      "source": [
        "#Tendo como dados de entrada a altura de uma pessoa, construa um algoritmo que calcule seu peso ideal, usando a seguinte fórmula: (72.7*altura) - 58\n",
        "\n",
        "altura = float(input('Digite sua altura: '))\n",
        "altura = (72.7 * altura) - 58\n",
        "\n",
        "print(f'Seu peso ideal é de {altura:.2f}kg.')"
      ],
      "execution_count": 4,
      "outputs": [
        {
          "output_type": "stream",
          "text": [
            "Digite sua altura: 1.65\n",
            "Seu peso ideal é de 61.95kg.\n"
          ],
          "name": "stdout"
        }
      ]
    },
    {
      "cell_type": "code",
      "metadata": {
        "id": "BuTlhdTzV6lV"
      },
      "source": [
        "#Faça um Programa que peça 2 números inteiros e um número real. Calcule e mostre:\n",
        "#a)o produto do dobro do primeiro com metade do segundo .\n",
        "#b)a soma do triplo do primeiro com o terceiro.\n",
        "#c)o terceiro elevado ao cubo.\n"
      ],
      "execution_count": null,
      "outputs": []
    },
    {
      "cell_type": "code",
      "metadata": {
        "colab": {
          "base_uri": "https://localhost:8080/"
        },
        "id": "w3AR7j_yUTUN",
        "outputId": "dda155ff-6244-4d32-ea23-e419ee471e33"
      },
      "source": [
        "#Faça um Programa que peça a temperatura em graus Celsius, transforme e mostre em graus Fahrenheit.\n",
        "#Fórmula °F = C x 1,8 + 32\n",
        "c = float(input('Digite o valor de C: '))\n",
        "c1 = c * 1.8\n",
        "f = round (c1 + 32)\n",
        "print(f'Transformamos {c} Celsius em {f} Fahrenheit.')"
      ],
      "execution_count": null,
      "outputs": [
        {
          "output_type": "stream",
          "text": [
            "Digite o valor de C: 32\n",
            "Transformamos 32.0 Celsius em 90 Fahrenheit.\n"
          ],
          "name": "stdout"
        }
      ]
    },
    {
      "cell_type": "code",
      "metadata": {
        "colab": {
          "base_uri": "https://localhost:8080/"
        },
        "id": "72FKHDQgO-pv",
        "outputId": "65c8b282-b701-4f3a-cb7b-585ba584816c"
      },
      "source": [
        "#Faça um Programa que peça a temperatura em graus Fahrenheit, transforme e mostre a temperatura em graus Celsius.\n",
        "#C = 5 * ((F-32) / 9).\n",
        "f = int(input('Digite o valor de F: '))\n",
        "f1 = (f - 32)\n",
        "c = round (5 * f1 / 9)\n",
        "\n",
        "print(f'Transformamos {f} Fahrenheit em {c} Celsius.')"
      ],
      "execution_count": null,
      "outputs": [
        {
          "output_type": "stream",
          "text": [
            "Digite o valor de F: 20\n",
            "Transformamos 20 Fahrenheit em -7 Celsius.\n"
          ],
          "name": "stdout"
        }
      ]
    },
    {
      "cell_type": "code",
      "metadata": {
        "colab": {
          "base_uri": "https://localhost:8080/"
        },
        "id": "fkor9plCHUQg",
        "outputId": "4b7bd853-b46d-4a5e-8b1e-cd82a024b23a"
      },
      "source": [
        "#Faça um Programa que pergunte quanto você ganha por hora e o número de horas trabalhadas no mês. Calcule e mostre o total do seu salário no referido mês.\n",
        "gh = int(input('Quanto você ganha por hora? '))\n",
        "hm = int(input('Quantas horas você trabalhou no mês?'))\n",
        "total = hm * gh\n",
        "print(f'Você ganha R${total:.2f}')"
      ],
      "execution_count": null,
      "outputs": [
        {
          "output_type": "stream",
          "text": [
            "Quanto você ganha por hora? 20\n",
            "Quantas horas você trabalhou no mês?240\n",
            "Você ganha R$4800.00\n"
          ],
          "name": "stdout"
        }
      ]
    },
    {
      "cell_type": "code",
      "metadata": {
        "colab": {
          "base_uri": "https://localhost:8080/"
        },
        "id": "NZF4ZYjlGAzO",
        "outputId": "2a9ca88f-6376-4605-f757-4e9f4f3564dd"
      },
      "source": [
        "#Faça um Programa que calcule a área de um quadrado, em seguida mostre o dobro desta área para o usuário.\n",
        "lado = float(input('Informe a área do quadrado: '))\n",
        "area = lado * lado\n",
        "dobro = area * 2\n",
        "\n",
        "print('A área é {} e o dobro é {}.'.format(area, dobro))"
      ],
      "execution_count": null,
      "outputs": [
        {
          "output_type": "stream",
          "text": [
            "Informe a área do quadrado: 5\n",
            "A área é 25.0 e o dobro é 50.0.\n"
          ],
          "name": "stdout"
        }
      ]
    },
    {
      "cell_type": "code",
      "metadata": {
        "colab": {
          "base_uri": "https://localhost:8080/"
        },
        "id": "hltxymytC4Uc",
        "outputId": "c3418c06-2c3d-49ee-dbd7-23bb7b51a745"
      },
      "source": [
        "#Faça um Programa que peça o raio de um círculo, calcule e mostre sua área.\n",
        "#Fórmula matemática A = pi * r²\n",
        "raio = float(input('Digite o raio: '))\n",
        "pi = 3.14\n",
        "area = pi* (raio**2)\n",
        "#Utilizando dois asteriscos significa elevado a...\n",
        "print('O resultado é:', area)"
      ],
      "execution_count": null,
      "outputs": [
        {
          "output_type": "stream",
          "text": [
            "Digite o raio: 2\n",
            "O resultado é: 12.56\n"
          ],
          "name": "stdout"
        }
      ]
    },
    {
      "cell_type": "code",
      "metadata": {
        "colab": {
          "base_uri": "https://localhost:8080/"
        },
        "id": "VAzyNe-KAED-",
        "outputId": "4d5a791f-87d0-4042-e08f-425218a98b12"
      },
      "source": [
        "#Faça um Programa que converta metros para centímetros.\n",
        "metro = float(input('Informe o valor em metros: '))\n",
        "resultado = metro * 100\n",
        "\n",
        "print('{}m equivale a {}cm.'.format(metro, resultado))"
      ],
      "execution_count": null,
      "outputs": [
        {
          "output_type": "stream",
          "text": [
            "Informe o valor em metros: 10\n",
            "10.0m equivale a 1000.0cm.\n"
          ],
          "name": "stdout"
        }
      ]
    },
    {
      "cell_type": "code",
      "metadata": {
        "colab": {
          "base_uri": "https://localhost:8080/"
        },
        "id": "lICx_CTC8CLI",
        "outputId": "6b925df8-fb2f-4908-8f8b-4d6bb4a0204c"
      },
      "source": [
        "#Faça um Programa que peça as 4 notas bimestrais e mostre a média.\n",
        "nota1bi = float(input('Digite sua nota do 1° bimestre: '))\n",
        "nota2bi = float(input('Digite sua nota dp 2° bimestre: '))\n",
        "nota3bi = float(input('Digite sua nota do 3° bimestre: '))\n",
        "nota4bi = float(input('Digite sua nota do 4° bimestre: '))\n",
        "media = (nota1bi + nota2bi + nota3bi + nota4bi) / 4\n",
        "\n",
        "print('Sua média é de:', media)"
      ],
      "execution_count": null,
      "outputs": [
        {
          "output_type": "stream",
          "text": [
            "Digite sua nota do 1° bimestre: 7\n",
            "Digite sua nota dp 2° bimestre: 4\n",
            "Digite sua nota do 3° bimestre: 8\n",
            "Digite sua nota do 4° bimestre: 5\n",
            "Sua média é de: 6.0\n"
          ],
          "name": "stdout"
        }
      ]
    },
    {
      "cell_type": "code",
      "metadata": {
        "colab": {
          "base_uri": "https://localhost:8080/"
        },
        "id": "mzH374bK61AN",
        "outputId": "35cacb17-b47c-4803-e9ef-01f9d794ea88"
      },
      "source": [
        "+#Faça um Programa que peça dois números e imprima a soma.\n",
        "num1 = int(input('Digite um número: '))\n",
        "num2 = int(input('Digite outro número: '))\n",
        "resultado = num1 + num2\n",
        "\n",
        "print('A soma desses números é de: ', resultado)"
      ],
      "execution_count": null,
      "outputs": [
        {
          "output_type": "stream",
          "text": [
            "Digite um número: 22\n",
            "Digite outro número: 16\n",
            "A soma desses números é de:  38\n"
          ],
          "name": "stdout"
        }
      ]
    },
    {
      "cell_type": "code",
      "metadata": {
        "colab": {
          "base_uri": "https://localhost:8080/"
        },
        "id": "Elbbt4Or6HgT",
        "outputId": "3eb4a9fc-6760-4e9d-9c48-889914824776"
      },
      "source": [
        "#Faça um Programa que peça um número e então mostre a mensagem O número informado foi [número].\n",
        "num = int(input('Digite um número: '))\n",
        "\n",
        "print('O número informado foi:', num)"
      ],
      "execution_count": null,
      "outputs": [
        {
          "output_type": "stream",
          "text": [
            "Digite um número: 22\n",
            "O número informado foi: 22\n"
          ],
          "name": "stdout"
        }
      ]
    },
    {
      "cell_type": "code",
      "metadata": {
        "colab": {
          "base_uri": "https://localhost:8080/"
        },
        "id": "jYxSZ_vJ5rYd",
        "outputId": "f42590aa-b25c-480b-f143-e38dc3237a59"
      },
      "source": [
        "#Faça um Programa que mostre a mensagem \"Alo mundo\" na tela.\n",
        "print('Hey guys.')"
      ],
      "execution_count": null,
      "outputs": [
        {
          "output_type": "stream",
          "text": [
            "Hey guys.\n"
          ],
          "name": "stdout"
        }
      ]
    }
  ]
}