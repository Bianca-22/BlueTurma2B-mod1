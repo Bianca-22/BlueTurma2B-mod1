{
  "nbformat": 4,
  "nbformat_minor": 0,
  "metadata": {
    "colab": {
      "name": "Cópia_de_Exercicios_desafios_condicionais_aula5.ipynb",
      "provenance": [],
      "collapsed_sections": [],
      "include_colab_link": true
    },
    "kernelspec": {
      "name": "python3",
      "display_name": "Python 3"
    },
    "language_info": {
      "name": "python"
    }
  },
  "cells": [
    {
      "cell_type": "markdown",
      "metadata": {
        "id": "view-in-github",
        "colab_type": "text"
      },
      "source": [
        "<a href=\"https://colab.research.google.com/github/Bianca-22/BlueTurma2B-mod1/blob/main/Exercicios_desafios_condicionais_aula5.ipynb\" target=\"_parent\"><img src=\"https://colab.research.google.com/assets/colab-badge.svg\" alt=\"Open In Colab\"/></a>"
      ]
    },
    {
      "cell_type": "markdown",
      "metadata": {
        "id": "tfU9qd8OOh3Y"
      },
      "source": [
        "Exercício 1: Faça um Programa que leia três números inteiros, em seguida mostre o maior e o menor deles.\n"
      ]
    },
    {
      "cell_type": "code",
      "metadata": {
        "id": "M6y0oSsIJoCE",
        "colab": {
          "base_uri": "https://localhost:8080/"
        },
        "outputId": "c625acb6-c3ec-475d-ac56-10d32b96bf95"
      },
      "source": [
        "num1 = int(input('Primeiro numero: '))\n",
        "num2 = int(input('Segundo numero : '))\n",
        "num3 = int(input('Terceiro numero: '))\n",
        "\n",
        "# Achando o maior número\n",
        "maior = num1\n",
        "if num2 > maior:\n",
        "  maior = num2\n",
        "if num3 > maior:\n",
        "  maior = num3\n",
        "print('Maior: ',maior)\n",
        "\n",
        "# Achando o menor número\n",
        "menor = num1\n",
        "if num2 < menor:\n",
        "  menor = num2\n",
        "if num3 < menor:\n",
        "  menor = num3\n",
        "print('Menor: ',menor)"
      ],
      "execution_count": 27,
      "outputs": [
        {
          "output_type": "stream",
          "text": [
            "Primeiro numero: 1\n",
            "Segundo numero : 2\n",
            "Terceiro numero: 3\n",
            "Maior:  3\n",
            "Menor:  1\n"
          ],
          "name": "stdout"
        }
      ]
    },
    {
      "cell_type": "markdown",
      "metadata": {
        "id": "bSsK3qSMOevp"
      },
      "source": [
        "**Exercício 2 - Faça um programa que peça dois números e imprima o maior deles.**"
      ]
    },
    {
      "cell_type": "code",
      "metadata": {
        "colab": {
          "base_uri": "https://localhost:8080/"
        },
        "id": "g9cG0Q17PznI",
        "outputId": "dc4cef3f-26f8-41f1-f865-d19d599756bd"
      },
      "source": [
        "primeiro = int(input('Primeiro número: '))\n",
        "segundo = int(input('Segundo número: '))\n",
        "\n",
        "if primeiro > segundo:\n",
        "    print(primeiro)\n",
        "else:\n",
        "    print(segundo)"
      ],
      "execution_count": 88,
      "outputs": [
        {
          "output_type": "stream",
          "text": [
            "Primeiro número: 10\n",
            "Segundo número: 5\n",
            "10\n"
          ],
          "name": "stdout"
        }
      ]
    },
    {
      "cell_type": "markdown",
      "metadata": {
        "id": "7LgzHMqUOmX_"
      },
      "source": [
        "Exercício 3 - Faça um script que peça um valor e mostre na tela se o valor é positivo ou negativo."
      ]
    },
    {
      "cell_type": "code",
      "metadata": {
        "id": "pM9hru6wJpN5",
        "colab": {
          "base_uri": "https://localhost:8080/"
        },
        "outputId": "249b06e9-ff0c-4e75-e8c8-43e2be67da41"
      },
      "source": [
        "valor = int(input('Digite um valor: '))\n",
        "\n",
        "if valor == 0:\n",
        "  print(f'O valor {valor} é nulo')\n",
        "elif valor < 0:\n",
        "  print(f'O valor {valor} é negativo')\n",
        "else:\n",
        "  print(f'O valor {valor} é positivo')"
      ],
      "execution_count": 38,
      "outputs": [
        {
          "output_type": "stream",
          "text": [
            "Digite um valor: -22\n",
            "O valor -22 é negativo\n"
          ],
          "name": "stdout"
        }
      ]
    },
    {
      "cell_type": "markdown",
      "metadata": {
        "id": "nK4P9Qy1OnbL"
      },
      "source": [
        "Exercício 4 - Crie um programa que verifique se uma letra digitada é \"F\" ou \"M\". Conforme a letra escrever: F - Feminino, M - Masculino, Sexo Inválido."
      ]
    },
    {
      "cell_type": "code",
      "metadata": {
        "id": "g-9Tll_kJphc",
        "colab": {
          "base_uri": "https://localhost:8080/"
        },
        "outputId": "bf8d74f7-35d8-4e45-8d06-986b141e533e"
      },
      "source": [
        "var = input('M ou F? ')\n",
        "\n",
        "if var.upper() == 'M':\n",
        "  print('Masculino')\n",
        "elif var.upper() == 'F':\n",
        "  print('Feminino')\n",
        "else:\n",
        "  print('Sexo inválido')"
      ],
      "execution_count": 47,
      "outputs": [
        {
          "output_type": "stream",
          "text": [
            "M ou F? m\n",
            "Masculino\n"
          ],
          "name": "stdout"
        }
      ]
    },
    {
      "cell_type": "markdown",
      "metadata": {
        "id": "SfNlQyyKOp1S"
      },
      "source": [
        "Exercício 5 - Crie um programa em Python que peça a nota do aluno, que deve ser um float entre 0.00 e 10.0\n",
        "    • Se a nota for menor que 6.0, deve exibir a nota F.\n",
        "    • Se a nota for de 6.0 até 7.0, deve exibir a nota D.\n",
        "    • Se a nota for entre 7.0 e 8.0, deve exibir a nota C.\n",
        "    • Se a nota for entre 8.0 e 9.0, deve exibir a nota B.\n",
        "    • Por fim, se for entre 9.0 e 10.0, deve exibir um belo de um A."
      ]
    },
    {
      "cell_type": "code",
      "metadata": {
        "id": "caUKaqZYJp-K",
        "colab": {
          "base_uri": "https://localhost:8080/"
        },
        "outputId": "eb5a76ab-565a-434e-bec5-9b88241a9d64"
      },
      "source": [
        "nota = float(input('Digite sua nota final: '))\n",
        "\n",
        "if nota >= 9:\n",
        "  print('Parabéns, você tirou um A!')\n",
        "elif 8 <= nota <= 8.9:\n",
        "    print('Você tirou um B')\n",
        "elif 7 <= nota <= 7.9:\n",
        "      print('Você tirou um C')\n",
        "elif 6 <= nota <= 6.9:\n",
        "  print('Você tirou um D')\n",
        "else:\n",
        "  print('Você tirou um F')"
      ],
      "execution_count": 54,
      "outputs": [
        {
          "output_type": "stream",
          "text": [
            "Digite sua nota final: 5.7\n",
            "Você tirou um F\n"
          ],
          "name": "stdout"
        }
      ]
    },
    {
      "cell_type": "markdown",
      "metadata": {
        "id": "S0tjDFr2OuPW"
      },
      "source": [
        "Exercício 6 - Faça um Programa que verifique se uma letra digitada é vogal ou consoante."
      ]
    },
    {
      "cell_type": "code",
      "metadata": {
        "id": "mh6l9n1_JqUa",
        "colab": {
          "base_uri": "https://localhost:8080/"
        },
        "outputId": "5a91a96c-681b-4e66-9e7b-d5ab2a4cdbfe"
      },
      "source": [
        "letra = input('Digite uma letra: ')\n",
        "\n",
        "if letra.lower() == 'a':\n",
        "  print('Consoante')\n",
        "elif letra.lower() == 'e':\n",
        "  print('Consoante')\n",
        "elif letra.lower() == 'i':\n",
        "  print('Consoante')\n",
        "elif letra.lower() == 'o':\n",
        "  print('Consoante')\n",
        "elif letra.lower() == 'u':\n",
        "  print('Consoante')\n",
        "else:\n",
        "  print('Vogal')"
      ],
      "execution_count": 70,
      "outputs": [
        {
          "output_type": "stream",
          "text": [
            "Digite uma letra: B\n",
            "Vogal\n"
          ],
          "name": "stdout"
        }
      ]
    },
    {
      "cell_type": "markdown",
      "metadata": {
        "id": "-SYJhM3gOuuI"
      },
      "source": [
        "# **PROJETO 1**\n",
        "Resultado da primeira/segunda aula em Python:\n",
        "    • Escreva um programa que receba uma string digitada pelo usuário;\n",
        "    • Caso a string seja \"medieval\", exiba no console \"espada\";\n",
        "    • Caso contrário, se a string for \"futurista\", exiba no console \"sabre de luz\";\n",
        "    • Caso contrário, exiba no console \"Tente novamente\""
      ]
    },
    {
      "cell_type": "code",
      "metadata": {
        "id": "wVVF2ldXJq1Z",
        "colab": {
          "base_uri": "https://localhost:8080/"
        },
        "outputId": "c0b14135-9d7c-44f7-80f9-998785b89f05"
      },
      "source": [
        "resposta = input('Medieval ou Futurista? ')\n",
        "\n",
        "if resposta.lower() == 'medieval':\n",
        "   print('Espada')\n",
        "elif resposta.lower() == 'futurista':\n",
        "   print('Sabre de Luz')\n",
        "else:\n",
        "   print('Tente novamente')"
      ],
      "execution_count": 83,
      "outputs": [
        {
          "output_type": "stream",
          "text": [
            "Medieval ou Futurista? Futurista\n",
            "Sabre de Luz\n"
          ],
          "name": "stdout"
        }
      ]
    },
    {
      "cell_type": "markdown",
      "metadata": {
        "id": "lcu0VZ8zPuKd"
      },
      "source": [
        "# **Continuação do PROJETO 1**\n",
        "    • Escreva um programa que receba um ataque de espada ou sabre digitada pelo usuário;\n",
        "    • Caso o ataque seja \"espada\", exiba no console \"VOCÊ AINDA NÃO MATOU O CHEFÃO\";\n",
        "    • Caso contrário, se o ataque for \"sabre\", exiba no console \"VOCÊ DERROTOU O CHEFÃO COM O SABRE DE LUZ\";\n",
        "    • Caso contrário, exiba no console \"ATAQUE NOVAMENTE\""
      ]
    },
    {
      "cell_type": "code",
      "metadata": {
        "id": "jupTvz8nJsGy",
        "colab": {
          "base_uri": "https://localhost:8080/"
        },
        "outputId": "c4dd9c98-4cd2-422f-9047-88e6c6cfc73f"
      },
      "source": [
        "atq = input('Como você quer atacar (espada ou sabre de luz)? ')\n",
        "\n",
        "if atq.lower() == 'espada':\n",
        "  print('VOCÊ AINDA NÃO MATOU O CHFÃO')\n",
        "elif atq.lower() == 'sabre de luz':\n",
        "  print('VOCÊ DERRTOU O CHEFÃO COM O SABRE DE LUZ!')\n",
        "else:\n",
        "  print('Ataque novamente')"
      ],
      "execution_count": 87,
      "outputs": [
        {
          "output_type": "stream",
          "text": [
            "Como você quer atacar (espada ou sabre de luz)? ARIGATO\n",
            "Ataque novamente\n"
          ],
          "name": "stdout"
        }
      ]
    },
    {
      "cell_type": "markdown",
      "metadata": {
        "id": "2qAqfZPsRpFr"
      },
      "source": [
        "# **DESAFIO**\n",
        "As empresas @.com resolveram dar um aumento de salário aos seus colaboradores e lhe contrataram para desenvolver o programa que calculará os reajustes.\n",
        "\n",
        "Faça um programa que recebe o salário de um colaborador e o reajuste segundo o seguinte critério, baseado no salário atual:\n",
        "    • salários até R$ 280,00 (incluindo) : aumento de 20%\n",
        "    • salários entre R$ 280,00 e R$ 700,00 : aumento de 15%\n",
        "    • salários entre R$ 700,00 e R$ 1500,00 : aumento de 10%\n",
        "    • salários de R$ 1500,00 em diante : aumento de 5%\n",
        "Após o aumento ser realizado, informe na tela:\n",
        "    • o salário antes do reajuste;\n",
        "    • o percentual de aumento aplicado;\n",
        "    • o valor do aumento;\n",
        "    • o novo salário, após o aumento.\""
      ]
    },
    {
      "cell_type": "code",
      "metadata": {
        "id": "ajbIH8WHJsv-",
        "colab": {
          "base_uri": "https://localhost:8080/"
        },
        "outputId": "9fce5d03-e5d5-48ec-ad4e-bd9e22a9226a"
      },
      "source": [
        "salario = float(input('Digite o seu salário: R$'))\n",
        "\n",
        "if salario <= 280:\n",
        "  reajuste = (salario / 100) * 20\n",
        "  print(\"Seu salário atual é de: R${:.2f}\\nO aumento será de 20%.\\nVocê irá receber um aumento de: R${:.2f}\\nE seu novo salário será de: R${:.2f}\".format(salario, reajuste, salario + reajuste))\n",
        "\n",
        "elif salario > 280.1 and salario <= 700:\n",
        "  reajuste = (salario / 100) * 15\n",
        "  print(\"Seu salário atual é de: R${:.2f}\\nO aumento será de 15%.\\nVocê irá receber um aumento de: R${:.2f}\\nE seu novo salário será de: R${:.2f}\".format(salario, reajuste, salario + reajuste))\n",
        "\n",
        "elif salario > 700.1 and salario <= 1500:\n",
        "  reajuste = (salario / 100) * 10\n",
        "  print(\"Seu salário atual é de: R${:.2f}\\nO aumento será de 10%.\\nVocê irá receber um aumento de: R${:.2f}\\nE seu novo salário será de: R${:.2f}\".format(salario, reajuste, salario + reajuste))\n",
        "\n",
        "else:\n",
        "  reajuste = (salario / 100) * 5\n",
        "  print(\"Seu salário atual é de: R${:.2f}\\nO aumento será de 5%.\\nVocê irá receber um aumento de: R${:.2f}\\nE seu novo salário será de: R${:.2f}\".format(salario, reajuste, salario + reajuste))\n",
        "\n",
        "\n"
      ],
      "execution_count": 93,
      "outputs": [
        {
          "output_type": "stream",
          "text": [
            "Digite o seu salário: R$1501\n",
            "Seu salário atual é de: R$1501.00\n",
            "O aumento será de 5%.\n",
            "Você irá receber um aumento de: R$75.05\n",
            "E seu novo salário será de: R$1576.05\n"
          ],
          "name": "stdout"
        }
      ]
    },
    {
      "cell_type": "markdown",
      "metadata": {
        "id": "W0Z9cw8-K_dZ"
      },
      "source": [
        "# **DESAFIO**\n",
        "Faça um Programa para um caixa eletrônico. O programa deverá perguntar ao usuário a valor do saque e depois informar quantas notas de cada valor serão fornecidas. As notas disponíveis serão as de 1, 5, 10, 50 e 100 reais. O valor mínimo é de 10 reais e o máximo de 600 reais. O programa não deve se preocupar com a quantidade de notas existentes na máquina.\n",
        "    • Exemplo 1: Para sacar a quantia de 256 reais, o programa fornece duas notas de 100, uma nota de 50, uma nota de 5 e uma nota de 1;\n",
        "    • Exemplo 2: Para sacar a quantia de 399 reais, o programa fornece três notas de 100, uma nota de 50, quatro notas de 10, uma nota de 5 e quatro notas de 1."
      ]
    },
    {
      "cell_type": "code",
      "metadata": {
        "id": "47vmEVi1JtSw",
        "colab": {
          "base_uri": "https://localhost:8080/"
        },
        "outputId": "e7357012-82e0-47b3-f91d-8e27251df4f4"
      },
      "source": [
        "numero = int(input('Digite um valor para sacar: R$'))\n",
        "\n",
        "cem = int(numero / 100)\n",
        "numero = numero - (cem * 100)\n",
        "cinquenta = int(numero / 50)\n",
        "numero = numero - (cinquenta*50)\n",
        "dez = int(numero/10)\n",
        "numero = numero - (dez*10)\n",
        "cinco = int(numero/5)\n",
        "numero = numero - (cinco*5)\n",
        "um = numero\n",
        "    \n",
        "print('Notas R$100,00 = ',cem)\n",
        "print('Notas R$ 50,00 = ',cinquenta)\n",
        "print('Notas R$ 10,00 = ',dez)\n",
        "print('Notas R$  5,00 = ',cinco)\n",
        "print('Notas R$  1,00 = ',um)"
      ],
      "execution_count": 94,
      "outputs": [
        {
          "output_type": "stream",
          "text": [
            "Digite um valor para sacar: R$638\n",
            "Notas R$100,00 =  6\n",
            "Notas R$ 50,00 =  0\n",
            "Notas R$ 10,00 =  3\n",
            "Notas R$  5,00 =  1\n",
            "Notas R$  1,00 =  3\n"
          ],
          "name": "stdout"
        }
      ]
    }
  ]
}